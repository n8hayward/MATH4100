{
 "cells": [
  {
   "cell_type": "markdown",
   "metadata": {},
   "source": [
    "## Activity 5 Submission\n",
    "\n",
    "* First Name: Nate \n",
    "* Last Name: Hayward\n",
    "* UID: u6031381\n",
    "* E-mail: nate.hayward@hsc.utah.edu\n"
   ]
  },
  {
   "cell_type": "markdown",
   "metadata": {},
   "source": [
    "# Lecture 5: Activities"
   ]
  },
  {
   "cell_type": "markdown",
   "metadata": {
    "collapsed": true,
    "jupyter": {
     "outputs_hidden": true
    }
   },
   "source": [
    "## Activity 1: Set Intersection\n",
    "\n",
    "Write a function that finds the intersection of an arbitrary number of sets and prints them.\n",
    "Initialize two sets, e.g., with values {11, 42, 16, 22, 19} and {16, 4, 8, 11, 42} and {17, 6, 11, 16, 7, 12} and call this function with them.\n",
    "\n",
    "You can assume the function will be passed at least two sets. You can do this either with a tuple parameter or with the `*args` parameter we learned last week."
   ]
  },
  {
   "cell_type": "code",
   "execution_count": 42,
   "metadata": {},
   "outputs": [
    {
     "name": "stdout",
     "output_type": "stream",
     "text": [
      "{16, 11}\n"
     ]
    }
   ],
   "source": [
    "def set_intersection(*args):\n",
    "\n",
    "    #Check if the function is passing at least two sets, if not -> print error \n",
    "    if (len(args)) < 2:\n",
    "        print(\"Error - must be at least 2 sets to assess intersection\")\n",
    "        return None\n",
    "\n",
    "    #create variable for first set being passed through function\n",
    "    final_set = args[0]\n",
    "\n",
    "    #iterate through all sets from 1 to end so that number of sets input can be arbitrary\n",
    "    for i in args[1:]:\n",
    "        final_set = final_set.intersection(i) #Assess intersection\n",
    "    return final_set\n",
    "\n",
    "s1 = {11, 42, 16, 22, 19}\n",
    "s2 = {16, 4, 8, 11, 42}\n",
    "s3 = {17, 6, 11, 16, 7, 12} \n",
    "print(set_intersection(s1, s2, s3))\n"
   ]
  },
  {
   "cell_type": "markdown",
   "metadata": {},
   "source": [
    "## Activity 2: Dictionaries\n",
    "\n",
    " * Create a dictionary with two-letter codes of two US states and the full names, e.g., UT: Utah, NY: New York\n",
    " * After initially creating the dictionary, add two more states to the dictionary.\n",
    " * Create a second dictionary that maps the state codes to an array of cities in that state, e.g., UT: [Salt Lake City, Ogden, Provo, St.George]. \n",
    " * Write a function that takes a state code and prints the full name of the state and lists the cities in that state."
   ]
  },
  {
   "cell_type": "code",
   "execution_count": 59,
   "metadata": {},
   "outputs": [
    {
     "name": "stdout",
     "output_type": "stream",
     "text": [
      "The name of the state is Hawaii.\n",
      "It contains the following cities: ['Hawi', 'Kona', 'Captain Cook'].\n"
     ]
    }
   ],
   "source": [
    "\n",
    "#Create dictionary with two-letter codes of two US states and the full names w/ 2 states added\n",
    "states = {\"UT\":\"Utah\", \"NY\":\"New York\", \"HI\":\"Hawaii\", \"AK\":\"Alaska\"}\n",
    "\n",
    "#Create a second disctionary maps the state codes to array of cities in that state\n",
    "state_maps = {\"UT\":[\"Salt Lake City\", \"Ogden\"], \"NY\": [\"Brooklyn\", \"New York\"], \"HI\": [\"Hawi\", \"Kona\", \"Captain Cook\"], \"AK\":[\"Juneau\", \"Anchorage\"]}\n",
    "\n",
    "def state_finder(state_code):\n",
    "\n",
    "    #Check if state_code input is in the dictionary\n",
    "    if state_code in states:\n",
    "        state_name = states[state_code] #Create variable for the state name given state_code key\n",
    "        state_cities = state_maps[state_code] #Create variable for the state cities given state_code key\n",
    "\n",
    "        print(f'The name of the state is {state_name}.') #Print full name of states\n",
    "        print(f'It contains the following cities: {state_cities}.') #Print list of cities in state\n",
    "\n",
    "    else:\n",
    "        print(f'Error: The input state code {state_code} does not exist in the current dictionary') #If state_code not in dictionary -> Error\n",
    "        \n",
    "state_finder(\"HI\")"
   ]
  },
  {
   "cell_type": "markdown",
   "metadata": {},
   "source": [
    "## Activity 3: Objects\n",
    "\n",
    "Create a class `Pet` with members `name, pronoun, animal,` and `pet_response`. \n",
    "\n",
    "Add a method `pet()` which prints a response that is composed of the members, like that: \n",
    "\n",
    "`Layla is a cat. If you pet her, Layla purrs.`  \n",
    "`Bond is a dog. If you pet him, Scout wags his tail.`\n"
   ]
  },
  {
   "cell_type": "code",
   "execution_count": 83,
   "metadata": {},
   "outputs": [
    {
     "name": "stdout",
     "output_type": "stream",
     "text": [
      "Layla is a cat. If you pet her, Layla purrs.\n"
     ]
    }
   ],
   "source": [
    "class Pet:\n",
    "    #Instantiation operation\n",
    "    def __init__(self, name, pronoun, animal, pet_response):\n",
    "        # an instance variable, specific to that instance\n",
    "        self.name = name #Instance variable of pet name\n",
    "        self.pronoun = pronoun #Instance variable of pet pronoun\n",
    "        self.animal = animal #Instance variable of animal\n",
    "        self.response = pet_response #Instance variable of pet response\n",
    "\n",
    "\n",
    "    def pet(self):\n",
    "        print(f\"{self.name} is a {self.animal}. If you pet {self.pronoun}, {self.name} {self.response}.\")\n",
    "\n",
    "layla = Pet(\"Layla\", \"her\", \"cat\", \"purrs\")\n",
    "\n",
    "# Call the print_pet method\n",
    "layla.pet()\n"
   ]
  },
  {
   "cell_type": "markdown",
   "metadata": {},
   "source": [
    "Here are some example calls: "
   ]
  },
  {
   "cell_type": "code",
   "execution_count": 84,
   "metadata": {},
   "outputs": [
    {
     "name": "stdout",
     "output_type": "stream",
     "text": [
      "Layla is a cat. If you pet her, Layla purrs.\n",
      "Bond is a dog. If you pet him, Bond wags his tail.\n"
     ]
    }
   ],
   "source": [
    "layla = Pet(\"Layla\", \"her\", \"cat\", \"purrs\")\n",
    "scout = Pet(\"Bond\", \"him\", \"dog\", \"wags his tail\")\n",
    "\n",
    "layla.pet()\n",
    "scout.pet()"
   ]
  },
  {
   "cell_type": "markdown",
   "metadata": {
    "collapsed": true,
    "jupyter": {
     "outputs_hidden": true
    }
   },
   "source": [
    "## Activity 4: Pandas Series"
   ]
  },
  {
   "cell_type": "markdown",
   "metadata": {},
   "source": [
    "Create a new pandas series with the lists given below that contain NFL team names and the number of Super Bowl titles they won. Use the names as indices, the wins as the data.\n",
    "\n",
    " * Once the list is created, sort the series alphabetically by index. \n",
    " * Print an overview of the statistical properties of the series. What's the mean number of wins?\n",
    " * Filter out all teams that have won less than four Super Bowl titles\n",
    " * A football team has 45 players. Update the series so that instead of the number of titles, it reflects the number of Super Bowl rings given to the players. \n",
    " * Assume that each ring costs USD 28,000. Update the series so that it contains a string of the dollar amount including the \\$ sign. For the Steelers, for example, this would correspond to: \n",
    " ```\n",
    " Pittsburgh Steelers             $ 7560000\n",
    " ```\n",
    "\n"
   ]
  },
  {
   "cell_type": "code",
   "execution_count": 107,
   "metadata": {},
   "outputs": [],
   "source": [
    "teams = [\"New England Patriots\",\n",
    "         \"Pittsburgh Steelers\",\n",
    "         \"Dallas Cowboys\",\n",
    "         \"San Francisco 49ers\",\n",
    "         \"Green Bay Packers\",\n",
    "         \"New York Giants\",\n",
    "         \"Kansas City Chiefs\",\n",
    "         \"Denver Broncos\",\n",
    "         \"Oakland/Los Angeles/Las Vegas Raiders\",\n",
    "         \"Washington Commanders\",\n",
    "         \"Miami Dolphins\",\n",
    "         \"Baltimore/Indianapolis Colts\",\n",
    "         \"Baltimore Ravens\",\n",
    "         \"Los Angeles/St. Louis Rams\",\n",
    "         \"Tampa Bay Buccaneers\"]\n",
    "wins = [6,6,5,5,4,4,4,3,3,3,2,2,2,2,2]"
   ]
  },
  {
   "cell_type": "code",
   "execution_count": 141,
   "metadata": {},
   "outputs": [
    {
     "name": "stdout",
     "output_type": "stream",
     "text": [
      "New England Patriots                     6\n",
      "Pittsburgh Steelers                      6\n",
      "Dallas Cowboys                           5\n",
      "San Francisco 49ers                      5\n",
      "Green Bay Packers                        4\n",
      "New York Giants                          4\n",
      "Kansas City Chiefs                       4\n",
      "Denver Broncos                           3\n",
      "Oakland/Los Angeles/Las Vegas Raiders    3\n",
      "Washington Commanders                    3\n",
      "Miami Dolphins                           2\n",
      "Baltimore/Indianapolis Colts             2\n",
      "Baltimore Ravens                         2\n",
      "Los Angeles/St. Louis Rams               2\n",
      "Tampa Bay Buccaneers                     2\n",
      "dtype: int64 \n",
      "\n",
      "\n",
      "Baltimore Ravens                         2\n",
      "Baltimore/Indianapolis Colts             2\n",
      "Dallas Cowboys                           5\n",
      "Denver Broncos                           3\n",
      "Green Bay Packers                        4\n",
      "Kansas City Chiefs                       4\n",
      "Los Angeles/St. Louis Rams               2\n",
      "Miami Dolphins                           2\n",
      "New England Patriots                     6\n",
      "New York Giants                          4\n",
      "Oakland/Los Angeles/Las Vegas Raiders    3\n",
      "Pittsburgh Steelers                      6\n",
      "San Francisco 49ers                      5\n",
      "Tampa Bay Buccaneers                     2\n",
      "Washington Commanders                    3\n",
      "dtype: int64 \n",
      "\n",
      "\n",
      "count    15.000000\n",
      "mean      3.533333\n",
      "std       1.457330\n",
      "min       2.000000\n",
      "25%       2.000000\n",
      "50%       3.000000\n",
      "75%       4.500000\n",
      "max       6.000000\n",
      "dtype: float64\n",
      "\n",
      "\n",
      "The mean number of superbowl wins is 3.533333333333333\n",
      "\n",
      "\n",
      "The teams with more than 4 Super Bowl wins are:\n",
      "New England Patriots    6\n",
      "Pittsburgh Steelers     6\n",
      "Dallas Cowboys          5\n",
      "San Francisco 49ers     5\n",
      "dtype: int64 \n",
      "\n",
      "\n",
      "The updated series with the number of rings given out is as follows:\n",
      "New England Patriots                     270\n",
      "Pittsburgh Steelers                      270\n",
      "Dallas Cowboys                           225\n",
      "San Francisco 49ers                      225\n",
      "Green Bay Packers                        180\n",
      "New York Giants                          180\n",
      "Kansas City Chiefs                       180\n",
      "Denver Broncos                           135\n",
      "Oakland/Los Angeles/Las Vegas Raiders    135\n",
      "Washington Commanders                    135\n",
      "Miami Dolphins                            90\n",
      "Baltimore/Indianapolis Colts              90\n",
      "Baltimore Ravens                          90\n",
      "Los Angeles/St. Louis Rams                90\n",
      "Tampa Bay Buccaneers                      90\n",
      "dtype: int64\n",
      "\n",
      "\n",
      "The updates series with the cost of these rings is:\n",
      "\n",
      "New England Patriots                     $7560000\n",
      "Pittsburgh Steelers                      $7560000\n",
      "Dallas Cowboys                           $6300000\n",
      "San Francisco 49ers                      $6300000\n",
      "Green Bay Packers                        $5040000\n",
      "New York Giants                          $5040000\n",
      "Kansas City Chiefs                       $5040000\n",
      "Denver Broncos                           $3780000\n",
      "Oakland/Los Angeles/Las Vegas Raiders    $3780000\n",
      "Washington Commanders                    $3780000\n",
      "Miami Dolphins                           $2520000\n",
      "Baltimore/Indianapolis Colts             $2520000\n",
      "Baltimore Ravens                         $2520000\n",
      "Los Angeles/St. Louis Rams               $2520000\n",
      "Tampa Bay Buccaneers                     $2520000\n",
      "dtype: object\n"
     ]
    }
   ],
   "source": [
    "import pandas as pd\n",
    "\n",
    "#Create list with wins as values, index as teams and name as NFL Team Superbowl Wins\n",
    "nfl_teams = pd.Series(wins, index = teams)\n",
    "print(f'{nfl_teams} \\n\\n')\n",
    "\n",
    "#Sort teams alphabetically by index (team names)\n",
    "nfl_alphabet = nfl_teams.sort_index(ascending=True)\n",
    "print(f'{nfl_alphabet} \\n\\n')\n",
    "\n",
    "#Overview of the statistical properties of the series.\n",
    "print(f'{nfl_teams.describe()}\\n\\n')\n",
    "#Mean number of wins\n",
    "print(f'The mean number of superbowl wins is {nfl_teams.mean()}\\n\\n')\n",
    "\n",
    "# Filter out all teams that have won less than four Super Bowl titles\n",
    "mask = nfl_teams > 4\n",
    "print(f'The teams with more than 4 Super Bowl wins are:\\n{nfl_teams[mask]} \\n\\n')\n",
    "\n",
    "# Update the series so that instead of the number of titles, it reflects the number of Super Bowl rings given to the players.\n",
    "rings = nfl_teams * 45\n",
    "print(f'The updated series with the number of rings given out is as follows:\\n{rings}\\n\\n')\n",
    "\n",
    "#Each ring costs USD 28,000. Update the series so that it contains a string of the dollar amount including the $ sign.\n",
    "ring_cost = (rings * 28000).map(\"${:.0f}\".format)\n",
    "print(f'The updates series with the cost of these rings is:\\n\\n{ring_cost}')"
   ]
  },
  {
   "cell_type": "code",
   "execution_count": null,
   "metadata": {},
   "outputs": [],
   "source": []
  }
 ],
 "metadata": {
  "anaconda-cloud": {},
  "kernelspec": {
   "display_name": "Python 3 (ipykernel)",
   "language": "python",
   "name": "python3"
  },
  "language_info": {
   "codemirror_mode": {
    "name": "ipython",
    "version": 3
   },
   "file_extension": ".py",
   "mimetype": "text/x-python",
   "name": "python",
   "nbconvert_exporter": "python",
   "pygments_lexer": "ipython3",
   "version": "3.12.5"
  }
 },
 "nbformat": 4,
 "nbformat_minor": 4
}
