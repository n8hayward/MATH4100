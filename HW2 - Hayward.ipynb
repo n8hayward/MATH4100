{
 "cells": [
  {
   "cell_type": "markdown",
   "metadata": {},
   "source": [
    "# Introduction to Data Science – Homework 2\n",
    "*COMP 5360 / MATH 4100, University of Utah, http://datasciencecourse.net/*\n",
    "\n",
    "Due: Friday, January 24, 11:59pm.\n",
    "\n",
    "This homework is designed to reinforce the skills we covered in the last week including various descriptive statistics. Make sure to go through the lectures again in case you have any trouble.\n",
    "\n",
    "**Note: Please provide comments describing what your code was doing at each stage**.\n",
    "\n",
    "**Note: Please fill the cell that says `Your Interpretation` or `Your description` in the below code**.\n"
   ]
  },
  {
   "cell_type": "markdown",
   "metadata": {},
   "source": [
    "## Your Data\n",
    "Fill out the following information: \n",
    "\n",
    "*First Name: Nate*   \n",
    "*Last Name: Hayward*   \n",
    "*E-mail: nate.hayward@hsc.utah.edu*   \n",
    "*UID: U6031381*  "
   ]
  },
  {
   "cell_type": "markdown",
   "metadata": {},
   "source": [
    "## Part 1: Vector data\n",
    "\n",
    "We first will work with a vector of monthly average temperatures for TaylorSville, UT, which we downloaded from [NOAA](https://www.ncdc.noaa.gov/). The data is included in this repository in the file `TaylorSville.csv`.\n",
    "\n",
    "The data is stored in the CSV format, which is a simple textfile with 'Comma Separated Values'.\n",
    "To load the data, we use the read_csv function from the pandas library. The following code reads the file and stores it in a vector:"
   ]
  },
  {
   "cell_type": "code",
   "execution_count": 257,
   "metadata": {},
   "outputs": [
    {
     "name": "stdout",
     "output_type": "stream",
     "text": [
      "           Date  TAVG  PRCP\n",
      "0      1/1/2024    26   0.0\n",
      "1      1/2/2024    27   0.0\n",
      "2      1/3/2024    26   0.0\n",
      "3      1/4/2024    21   0.2\n",
      "4      1/5/2024    19   0.0\n",
      "..          ...   ...   ...\n",
      "361  12/27/2024    30   0.0\n",
      "362  12/28/2024    36   0.0\n",
      "363  12/29/2024    39   0.0\n",
      "364  12/30/2024    26   0.0\n",
      "365  12/31/2024    21   0.0\n",
      "\n",
      "[366 rows x 3 columns]\n",
      "[26, 27, 26, 21, 19, 19, 14, 11, 26, 21, 11, 19, 26, 28, 26, 29, 33, 33, 37, 33, 29, 28, 28, 29, 27, 25, 32, 38, 37, 36, 36, 34, 28, 22, 24, 32, 31, 23, 22, 20, 16, 20, 31, 30, 30, 29, 29, 25, 32, 35, 34, 31, 28, 30, 34, 38, 35, 24, 30, 34, 33, 30, 25, 28, 31, 32, 28, 25, 27, 34, 35, 32, 25, 23, 27, 29, 28, 33, 36, 39, 40, 40, 36, 26, 24, 24, 29, 35, 35, 36, 28, 28, 35, 43, 43, 31, 22, 27, 28, 34, 38, 44, 48, 45, 41, 32, 41, 47, 47, 46, 45, 47, 52, 52, 48, 41, 35, 34, 38, 43, 47, 42, 41, 44, 47, 38, 33, 35, 31, 34, 36, 39, 47, 51, 50, 45, 50, 55, 55, 53, 47, 36, 46, 46, 47, 44, 47, 53, 58, 58, 53, 55, 60, 58, 58, 56, 62, 66, 65, 63, 64, 61, 64, 68, 64, 59, 64, 63, 58, 48, 57, 61, 56, 60, 63, 64, 65, 63, 59, 61, 65, 64, 63, 60, 64, 62, 61, 64, 66, 63, 67, 70, 71, 71, 70, 69, 65, 62, 65, 65, 64, 64, 65, 64, 66, 69, 68, 64, 65, 64, 65, 66, 67, 70, 69, 68, 64, 65, 65, 67, 62, 60, 60, 59, 57, 54, 60, 62, 64, 60, 57, 60, 65, 62, 56, 53, 54, 55, 56, 60, 62, 61, 61, 61, 61, 60, 61, 60, 55, 57, 61, 61, 60, 57, 59, 55, 52, 57, 57, 53, 47, 48, 52, 53, 49, 50, 53, 55, 59, 61, 61, 62, 63, 61, 60, 60, 59, 61, 57, 56, 55, 56, 56, 57, 57, 55, 55, 50, 49, 49, 44, 34, 37, 36, 43, 46, 51, 47, 49, 52, 53, 45, 30, 26, 33, 36, 34, 25, 26, 27, 17, 23, 29, 39, 41, 42, 29, 35, 42, 33, 23, 26, 32, 20, 35, 45, 45, 40, 32, 29, 32, 21, 25, 31, 38, 39, 38, 38, 37, 37, 36, 38, 38, 18, 23, 34, 34, 26, 33, 30, 38, 36, 40, 42, 44, 44, 42, 35, 34, 28, 31, 30, 36, 39, 26, 21]\n",
      "[0.0, 0.0, 0.0, 0.2, 0.0, 0.0, 0.4, 0.0, 0.0, 0.1, 0.0, 0.1, 0.0, 0.0, 0.0, 0.0, 0.1, 0.0, 0.0, 0.0, 0.2, 0.0, 0.2, 0.0, 0.0, 0.0, 0.0, 0.0, 0.0, 0.0, 0.0, 0.3, 0.4, 0.0, 0.1, 0.0, 0.9, 0.2, 0.7, 0.2, 0.0, 0.0, 0.0, 0.1, 0.0, 0.0, 0.0, 0.0, 0.0, 0.0, 0.0, 0.0, 0.0, 0.0, 0.0, 0.0, 0.0, 0.1, 0.0, 0.0, 0.0, 0.7, 0.1, 0.0, 0.0, 0.0, 0.2, 0.0, 0.0, 0.0, 0.0, 0.0, 0.1, 0.1, 2.6, 0.6, 0.1, 0.0, 0.0, 0.0, 0.0, 0.0, 0.1, 0.0, 0.1, 0.0, 0.0, 0.0, 0.1, 0.0, 0.2, 0.0, 0.0, 0.0, 0.0, 0.0, 0.1, 0.0, 0.0, 0.0, 0.0, 0.0, 0.0, 0.0, 0.0, 0.1, 0.0, 0.0, 0.0, 0.0, 0.0, 0.0, 0.0, 0.0, 0.0, 0.0, 0.2, 0.6, 0.0, 0.0, 0.0, 0.0, 0.0, 0.0, 0.0, 0.3, 0.0, 0.1, 0.0, 0.0, 0.1, 0.0, 0.0, 0.0, 0.1, 0.0, 0.0, 0.0, 0.0, 0.0, 0.1, 0.0, 0.0, 0.0, 0.0, 0.1, 0.0, 0.0, 0.0, 0.0, 0.0, 0.0, 0.0, 0.0, 0.0, 0.0, 0.0, 0.0, 0.0, 0.0, 0.0, 0.0, 0.0, 0.0, 0.0, 0.0, 0.0, 0.0, 0.0, 0.0, 0.0, 0.0, 0.0, 0.0, 0.0, 0.0, 0.0, 0.0, 0.3, 0.0, 0.0, 0.0, 0.0, 0.0, 0.0, 0.0, 0.0, 0.0, 0.0, 0.0, 0.0, 0.0, 0.0, 0.0, 0.0, 0.0, 0.0, 0.0, 0.0, 0.0, 0.0, 0.0, 0.0, 0.0, 0.0, 0.0, 0.0, 0.0, 0.0, 0.0, 0.0, 0.0, 0.0, 0.0, 0.0, 0.0, 0.1, 0.0, 2.0, 0.0, 1.1, 0.2, 0.3, 0.1, 0.3, 1.0, 0.0, 0.0, 0.0, 0.3, 0.0, 0.0, 0.0, 0.0, 0.1, 0.6, 0.1, 0.2, 0.0, 0.0, 0.0, 0.0, 0.0, 0.0, 0.0, 0.0, 0.0, 0.0, 0.0, 0.0, 0.0, 0.0, 0.0, 0.1, 0.0, 0.1, 0.0, 0.0, 0.0, 0.0, 0.0, 0.0, 0.0, 0.0, 0.0, 0.0, 0.0, 0.0, 0.0, 0.0, 0.0, 0.0, 0.0, 0.0, 0.1, 0.0, 0.0, 0.0, 0.0, 0.0, 0.0, 0.0, 0.0, 0.0, 0.0, 0.0, 0.0, 0.1, 0.0, 0.0, 0.2, 1.1, 0.2, 0.2, 0.0, 0.0, 0.0, 0.0, 0.0, 0.0, 0.0, 0.0, 0.1, 0.0, 0.0, 0.0, 0.1, 0.1, 0.0, 0.1, 0.1, 0.0, 0.0, 0.0, 0.0, 0.0, 0.0, 0.0, 0.0, 0.0, 0.1, 0.0, 0.0, 0.0, 0.0, 0.0, 0.0, 0.0, 0.0, 0.3, 0.8, 0.0, 0.0, 0.0, 0.0, 0.0, 0.0, 0.0, 0.0, 0.0, 0.0, 0.0, 0.0, 0.1, 0.0, 0.0, 0.0, 0.0, 0.0, 0.0, 0.0, 0.0, 0.0, 0.0, 0.0, 0.0, 0.0, 0.1, 0.1, 0.0, 0.0, 0.0, 0.0, 0.0, 0.0, 0.0]\n"
     ]
    }
   ],
   "source": [
    "# import the csv library\n",
    "import csv\n",
    "# import the math library we'll use later\n",
    "import math\n",
    "# import the pandas library\n",
    "import pandas as pd\n",
    "\n",
    "# read in and print the data\n",
    "data = pd.read_csv(\"TaylorSville.csv\")\n",
    "print(data)\n",
    "\n",
    "# define vectors of interest\n",
    "temperature_vector = data[\"TAVG\"].tolist()\n",
    "precipitation_vector = data[\"PRCP\"].tolist()\n",
    "        \n",
    "# print the vector to see if it worked\n",
    "print (temperature_vector)\n",
    "print (precipitation_vector)"
   ]
  },
  {
   "cell_type": "markdown",
   "metadata": {},
   "source": [
    "We'll next use descriptive statistics to analyze the data in `temperature_vector`.\n",
    "\n",
    "In this problem, we'll do calculations that are also available in NumPy. For the purpose of this homework, however, **we want you to implement the solutions using standard python functionality and the math library, and then check your results using functions in NumPy** . \n",
    "\n",
    "See the the [NumPy library](http://docs.scipy.org/doc/numpy-1.11.0/reference/routines.statistics.html) documentation and include the checks as a separate code cell. "
   ]
  },
  {
   "cell_type": "markdown",
   "metadata": {},
   "source": [
    "### Task 1.1: Calculate the Sum of a Vector\n",
    "\n",
    "Write a function that calculates and returns the sum of a vector that you pass into it. \n",
    "\n",
    "Pass the temperature and precipitaton vector into this function and print the result."
   ]
  },
  {
   "cell_type": "code",
   "execution_count": 258,
   "metadata": {},
   "outputs": [
    {
     "name": "stdout",
     "output_type": "stream",
     "text": [
      "<function vector_sum at 0x130726ac0>\n",
      "The sum of the temperature vector is: 16224\n",
      "The sum of the precipitation vector is: 21.90\n"
     ]
    }
   ],
   "source": [
    "def vector_sum(vector):\n",
    "\n",
    "    #create vector sum variable, uses sum() to compute sum of vector\n",
    "    vector_sum = sum(vector)\n",
    "    return vector_sum\n",
    "\n",
    "print(vector_sum) #print result\n",
    "\n",
    "#pass temperature vector into function\n",
    "temperature_sum = vector_sum(temperature_vector)\n",
    "#print result\n",
    "print(f\"The sum of the temperature vector is: {temperature_sum}\")\n",
    "\n",
    "#pass precipitation vector into function\n",
    "precipitation_sum = vector_sum(precipitation_vector)\n",
    "#print result rounded to 2 decimal places\n",
    "print(f\"The sum of the precipitation vector is: {precipitation_rounded:.2f}\")\n"
   ]
  },
  {
   "cell_type": "code",
   "execution_count": 9,
   "metadata": {},
   "outputs": [
    {
     "name": "stdout",
     "output_type": "stream",
     "text": [
      "16224\n",
      "21.900000000000002\n"
     ]
    }
   ],
   "source": [
    "#check result of above function with NumPy\n",
    "import numpy as np\n",
    "\n",
    "temperature_sum_np = np.sum(temperature_vector)\n",
    "print(temperature_sum_np)\n",
    "\n",
    "precipitation_sum_np = np.sum(precipitation_vector)\n",
    "print(precipitation_sum_np)"
   ]
  },
  {
   "cell_type": "markdown",
   "metadata": {},
   "source": [
    "**My Interpretation:**\n",
    "* Both methods sum and np.sum returned the same result, interesting how the amount of decimal places is so large even though the float data in the file is limited to single decimal places. Interesting to see this happen as we discussed this in class"
   ]
  },
  {
   "cell_type": "markdown",
   "metadata": {},
   "source": [
    "### Task 1.2: Calculate the Mean of a Vector\n",
    "\n",
    "Write a function that calculates and returns the [arithmetic mean](https://en.wikipedia.org/wiki/Arithmetic_mean) of a vector that you pass into it. Use your above defined sum function to calculate sum of all the elements of a vector.\n",
    "\n",
    "Pass the temperature and precipitaton vector into this function and print the result. Provide a written interpretation of your results (e.g., \"The mean temperature for TaylorSville is XXX degrees Fahrenheit. The mean precipitation is XXX inches.\")"
   ]
  },
  {
   "cell_type": "code",
   "execution_count": 259,
   "metadata": {},
   "outputs": [
    {
     "name": "stdout",
     "output_type": "stream",
     "text": [
      "The mean temperature for Taylorsville is 44.33 degrees Fahrenheit. The mean precipitation is 0.06 inches.\n"
     ]
    }
   ],
   "source": [
    "def mean_vector(vector):\n",
    "    \n",
    "    #compute the sum for calculation purpuse using above vector_sum function\n",
    "    total_sum = vector_sum(vector)\n",
    "\n",
    "    #computer vector mean using result of sum/length of the vector\n",
    "    vector_mean = total_sum/len(vector)\n",
    "    \n",
    "    return vector_mean\n",
    "\n",
    "#pass temperature vector into function\n",
    "temperature_mean = mean_vector(temperature_vector)\n",
    "#pass precipitation vector into function\n",
    "precipitation_mean = mean_vector(precipitation_vector)\n",
    "print(f\"The mean temperature for Taylorsville is {temperature_mean:.2f} degrees Fahrenheit. The mean precipitation is {precipitation_mean:.2f} inches.\")"
   ]
  },
  {
   "cell_type": "code",
   "execution_count": 260,
   "metadata": {},
   "outputs": [
    {
     "name": "stdout",
     "output_type": "stream",
     "text": [
      "The mean temperature for Taylorsville is 44.33 degrees Fahrenheit. The mean precipitation is 0.06 inches.\n"
     ]
    }
   ],
   "source": [
    "# check results using Numpy\n",
    "temperature_mean_np = np.mean(temperature_vector)\n",
    "precipitation_mean_np = np.mean(precipitation_vector)\n",
    "print(f\"The mean temperature for Taylorsville is {temperature_mean_np:.2f} degrees Fahrenheit. The mean precipitation is {precipitation_mean_np:.2f} inches.\")"
   ]
  },
  {
   "cell_type": "markdown",
   "metadata": {},
   "source": [
    "**My Interpretation:**\n",
    "* Both methods sum and np.sum returned the same result. Neat to compute mean from basic math with several functions whereas NumPy is a single line. Obviously these functions are happening in the background but good exercise to see how to tackle problems in many ways.\n"
   ]
  },
  {
   "cell_type": "markdown",
   "metadata": {},
   "source": [
    "### Task 1.3: Calculate the Median of a Vector\n",
    "Write a function that calculates and returns the [median](https://en.wikipedia.org/wiki/Median) of a vector. Pass the temperature vector into this function and print the result. Make sure that your function works for both vectors with an even and odd number of elements. In the case of an even number of elements, use the mean of the two middle values. Provide a written interpretation of your results.\n",
    "\n",
    "Hint: the [`sorted()`](https://docs.python.org/3/library/functions.html#sorted) function might be helpful for this."
   ]
  },
  {
   "cell_type": "code",
   "execution_count": 53,
   "metadata": {},
   "outputs": [
    {
     "name": "stdout",
     "output_type": "stream",
     "text": [
      "40\n",
      "The median temperature for Taylorsville is 43.5 degrees Fahrenheit.\n"
     ]
    }
   ],
   "source": [
    "def median_vector(vector):\n",
    "\n",
    "    #create sorted vector \n",
    "    sorted_vector= sorted(vector)\n",
    "    #calculate length of vector\n",
    "    vector_len = len(vector)\n",
    "\n",
    "    #checks if vector length is odd (modulo = 1) and if so the index becomes the \n",
    "    if vector_len % 2 ==1:\n",
    "        index = vector_len //2 #index is calculated and is the middle number at that index \n",
    "        return sorted_vector[index] #return the value at that index for the sorted_vector \n",
    "\n",
    "    else: #must be even length and we therefore need to figure out the average of the two middle numbers\n",
    "        index1 = (vector_len //2) #index calculated as one of the middle elements\n",
    "        index2 = (vector_len //2) - 1 #index calculated as the remaining middle element \n",
    "        return (sorted_vector[index1] + sorted_vector[index2]) /2\n",
    "\n",
    "    #Other attempt which did not work: \n",
    "    # #create index variable which will correspond to middle number\n",
    "    # index = (vector_len - 1) // 2\n",
    "\n",
    "    # #check if index is even number (which would mean it is an odd number of elements since index is length - 1\n",
    "    # if index % 2 ==0:\n",
    "    #     return sorted_vector[index] #return sorted vector at the given index \n",
    "\n",
    "    # #else must calculate the mean of the two middle values\n",
    "    # else: \n",
    "    #     return (sorted_vector[index] + sorted_vector[index + 1])/2\n",
    "\n",
    "# test_vector = [10, 20, 30, 40, 50, 60, 70]\n",
    "# print(median_vector(test_vector))\n",
    "\n",
    "temp_median = median_vector(temperature_vector)\n",
    "print(f\"The median temperature for Taylorsville is {temp_median} degrees Fahrenheit.\")\n"
   ]
  },
  {
   "cell_type": "code",
   "execution_count": 48,
   "metadata": {},
   "outputs": [
    {
     "name": "stdout",
     "output_type": "stream",
     "text": [
      "The median temperature for Taylorsville is 43.5 degrees Fahrenheit.\n"
     ]
    }
   ],
   "source": [
    "temp_median_np = np.median(temperature_vector)\n",
    "print(f\"The median temperature for Taylorsville is {temp_median_np} degrees Fahrenheit.\")"
   ]
  },
  {
   "cell_type": "markdown",
   "metadata": {},
   "source": [
    "**Your Interpretation:**\n",
    "* This was pretty challenging and I tried to tackle it initially by trying to find the index first and then determine the the appropriate calculation but could not get it to work and it was leading to incorrect calculations.\n",
    "* I redid the problem checking the length if the vector instead and got it to work eventually\n",
    "* I created a test vector to try to test my work and kept forgetting that index of 3 is really the 4th number so I was confusing myself a lot and the test vector helped me to clarify my error "
   ]
  },
  {
   "cell_type": "markdown",
   "metadata": {},
   "source": [
    "### Task 1.4: Calculate the Variance of a Vector\n",
    "\n",
    "Write a function that calculates and returns the [variance](https://en.wikipedia.org/wiki/Variance) of a vector. Pass the temperature and precipitation vectors into this function and print the result. Provide a written interpretation of your results. Is the variance high? Why, Why not? \n",
    "\n",
    "The variance is the average of the squared deviations from the mean, i.e.,\n",
    "\n",
    "$$ Var(X) = {\\sigma}^{2} = \\frac{1}{N} \\sum_{i=1}^{N} {{(x_i - \\mu)}^2} $$\n",
    "\n",
    "where $\\mu$ is the mean of the vector. Hint: use your mean function to calculate it."
   ]
  },
  {
   "cell_type": "code",
   "execution_count": 70,
   "metadata": {},
   "outputs": [
    {
     "name": "stdout",
     "output_type": "stream",
     "text": [
      " The temperature variance for Taylorsville is 222.9826\n",
      " The precipitation variance for Taylorsville is 0.0499\n"
     ]
    }
   ],
   "source": [
    "def vector_var(vector):\n",
    "    #calculate mean of the vector using previous function\n",
    "    var_mean = mean_vector(vector)\n",
    "\n",
    "    #create empty list for squared deviations\n",
    "    sq_dev = []\n",
    "    for elements in vector:\n",
    "        sq_dev.append((elements - var_mean)**2) #for each element in the vector, compute the squared deviation from the mean and add to list\n",
    "\n",
    "    var_dev = sum(sq_dev)/(len(vector) - 1) #variance computed by sum of the squared deviation divided by the length -1 \n",
    "    return var_dev\n",
    "\n",
    "#pass temperature vector\n",
    "temperature_var = vector_var(temperature_vector)\n",
    "#print temperature vector result\n",
    "print(f\" The temperature variance for Taylorsville is {temperature_var:.4f}\")\n",
    "#pass precipitation vector\n",
    "precipitation_var = vector_var(precipitation_vector)\n",
    "#print precipitation vector\n",
    "print(f\" The precipitation variance for Taylorsville is {precipitation_var:.4f}\")"
   ]
  },
  {
   "cell_type": "code",
   "execution_count": 69,
   "metadata": {},
   "outputs": [
    {
     "name": "stdout",
     "output_type": "stream",
     "text": [
      " The temperature variance for Taylorsville is 222.3734\n",
      " The precipitation variance for Taylorsville is 0.0498\n"
     ]
    }
   ],
   "source": [
    "# check results using Numpy\n",
    "temperature_var_np = np.var(temperature_vector)\n",
    "print(f\" The temperature variance for Taylorsville is {temperature_var_np:.4f}\")\n",
    "precipitation_var_np = np.var(precipitation_vector)\n",
    "print(f\" The precipitation variance for Taylorsville is {precipitation_var_np:.4f}\")"
   ]
  },
  {
   "cell_type": "markdown",
   "metadata": {},
   "source": [
    "**My Interpretation:**\n",
    "* This was pretty straightforward to compute, however recognizing the large variation was a surprise especially for the temperature values. This could be due to the large range of values present in the dataset as the temperatures are in F so they can have a large range from 11-71 (see code test below) which is probably the reason for the large variance.\n",
    "* Another thing I found interesting is the the variance calculated by Numpy is does not use the same denominator as sample variance calculation which is the reason for the discrepancy. If I alter the above code to be divided by N (population variance) instead of N-1 I get the same answer. "
   ]
  },
  {
   "cell_type": "code",
   "execution_count": 75,
   "metadata": {},
   "outputs": [
    {
     "name": "stdout",
     "output_type": "stream",
     "text": [
      "11\n",
      "71\n",
      "0.0\n",
      "2.6\n"
     ]
    }
   ],
   "source": [
    "#Sampel code to see why variance in above question was so high\n",
    "temp_min = np.min(temperature_vector)\n",
    "print(temp_min)\n",
    "temp_max = np.max(temperature_vector)\n",
    "print(temp_max)\n",
    "\n",
    "prec_min = np.min(precipitation_vector)\n",
    "print(prec_min)\n",
    "prec_max = np.max(precipitation_vector)\n",
    "print(prec_max)"
   ]
  },
  {
   "cell_type": "markdown",
   "metadata": {},
   "source": [
    "### Task 1.5: Histogram\n",
    "\n",
    "Write a function that takes a vector and an integer `b` and calculates a [histogram](https://en.wikipedia.org/wiki/Histogram) with `b` bins. The function should return an array containing two arrays. The first should be the counts for each bin, the second should contain the borders of the bins.\n",
    "\n",
    "For `b=5` for the temperature vector, your output should look like this: \n",
    "\n",
    "`[[19, 102, 78, 72, 95], [11.0, 23.0, 35.0, 47.0, 59.0, 71.0]]`\n",
    "\n",
    "Here, the first array gives the size of these bins, the second defines the bands that are equally spaced between minimum and maximum value. That is, the first band from 11.0-23.0 has 19 entries, the second, from 23.0-35.0 has 102 entries, etc. \n",
    "\n",
    "\n",
    "Calculate the histogram for precipitation and temperature when b=20. Once you have the calculated bins and values, plot the histogram for precipitaion and temperature using `hist` function in `matplotlib.pyplot` library. Provide a written interpretation of your results. Comment on the shape of each histogram; is it unimodal or bimodal? Is the distribution skewed (if so, in which direction)?"
   ]
  },
  {
   "cell_type": "code",
   "execution_count": 119,
   "metadata": {},
   "outputs": [
    {
     "name": "stdout",
     "output_type": "stream",
     "text": [
      "[[19, 102, 78, 72, 95], [11.0, 23.0, 35.0, 47.0, 59.0, 71.0]]\n",
      "[[354, 8, 2, 1, 1], [0.0, 0.52, 1.04, 1.56, 2.08, 2.6]]\n",
      "[[2, 2, 5, 10, 16, 29, 26, 31, 28, 20, 14, 16, 19, 11, 20, 22, 35, 30, 19, 11], [11.0, 14.0, 17.0, 20.0, 23.0, 26.0, 29.0, 32.0, 35.0, 38.0, 41.0, 44.0, 47.0, 50.0, 53.0, 56.0, 59.0, 62.0, 65.0, 68.0, 71.0]]\n",
      "[[332, 13, 7, 2, 3, 2, 2, 1, 2, 0, 0, 0, 0, 0, 0, 1, 0, 0, 0, 1], [0.0, 0.13, 0.26, 0.39, 0.52, 0.65, 0.78, 0.91, 1.04, 1.17, 1.3, 1.4300000000000002, 1.56, 1.69, 1.82, 1.9500000000000002, 2.08, 2.21, 2.34, 2.47, 2.6]]\n"
     ]
    }
   ],
   "source": [
    "#Test code:\n",
    "# vector_min = np.min(temperature_vector)\n",
    "# print(vector_min)\n",
    "# vector_max = np.max(temperature_vector)\n",
    "# print(vector_max)\n",
    "# b = 5\n",
    "# bin_width = (vector_max - vector_min)/b\n",
    "# print(bin_width)\n",
    "# bin_border = [vector_min + i * bin_width for i in range(b+1)]  \n",
    "# print(bin_border)\n",
    "\n",
    "def histogram(vector, b):\n",
    "    #determine the max value of the vector\n",
    "    vector_max = max(vector)\n",
    "    #determine the min value of the vector\n",
    "    vector_min = min(vector)\n",
    "    #calculate the bin width as the range of the vector divided by the bins \n",
    "    bin_width = (vector_max - vector_min)/ b\n",
    "\n",
    "    #create empty bin count array of length b, if b=5 array is [0, 0, 0, 0, 0]\n",
    "    bin_count = [0]* b\n",
    "    #creates bin borders array with formula ensuring bins are spaced appropriately so borders will be spaced by bin width for bin range b+1 so that the bin amount is inclusive\n",
    "    bin_border = [vector_min + i * bin_width for i in range(b+1)]  \n",
    "\n",
    "    for element in vector:\n",
    "        bin_index = int((element - vector_min)/bin_width) #determines what bin each element should be placed in by stepping through each element relative to bin width\n",
    "        \n",
    "        #Added if statement such that if the index = b it places the value in the previous bin, error for case where max value equals max bin border i.e. 71-11/12 = 5 which causes + 1 error\n",
    "        if  bin_index ==b:\n",
    "            bin_index = b - 1 #set b-1 to fix error for specific case\n",
    "            \n",
    "        bin_count[bin_index] +=1 #add counter to array bin_count depending on what bin the value falls into \n",
    "    \n",
    "    return [bin_count, bin_border] #return the count for each bin as well as the bin borders/bands\n",
    "\n",
    "# the call to your function\n",
    "print(histogram(temperature_vector, 5))\n",
    "print(histogram(precipitation_vector, 5))\n",
    "print(histogram(temperature_vector, 20))\n",
    "print(histogram(precipitation_vector, 20))"
   ]
  },
  {
   "cell_type": "code",
   "execution_count": 107,
   "metadata": {},
   "outputs": [
    {
     "data": {
      "image/png": "[encoded data removed]",
      "text/plain": [
       "<Figure size 640x480 with 1 Axes>"
      ]
     },
     "metadata": {},
     "output_type": "display_data"
    },
    {
     "data": {
      "image/png": "[encoded data removed]",
      "text/plain": [
       "<Figure size 640x480 with 1 Axes>"
      ]
     },
     "metadata": {},
     "output_type": "display_data"
    }
   ],
   "source": [
    "import matplotlib.pyplot as plt\n",
    "\n",
    "# Plotting the temperature vector histogram\n",
    "plt.hist(temperature_vector, bins=20, color='skyblue', edgecolor='black')\n",
    "\n",
    "# Adding labels and title\n",
    "plt.xlabel('Values')\n",
    "plt.ylabel('Frequency')\n",
    "plt.title('Temperature Vector Histogram')\n",
    "\n",
    "# Display the plot\n",
    "plt.show()\n",
    "\n",
    "# Plotting the precipitation vector histogram\n",
    "plt.hist(precipitation_vector, bins=20, color='red', edgecolor='black')\n",
    "\n",
    "# Adding labels and title\n",
    "plt.xlabel('Values')\n",
    "plt.ylabel('Frequency')\n",
    "plt.title('Precipitation Vector Histogram')\n",
    "\n",
    "# Display the plot\n",
    "plt.show()"
   ]
  },
  {
   "cell_type": "code",
   "execution_count": 120,
   "metadata": {},
   "outputs": [
    {
     "name": "stdout",
     "output_type": "stream",
     "text": [
      "[ 2  2  5 10 16 29 26 31 28 20 14 16 19 11 20 22 35 30 19 11]\n",
      "[11. 14. 17. 20. 23. 26. 29. 32. 35. 38. 41. 44. 47. 50. 53. 56. 59. 62.\n",
      " 65. 68. 71.]\n",
      "[332  13   7   2   3   2   2   1   2   0   0   0   0   0   0   1   0   0\n",
      "   0   1]\n",
      "[0.   0.13 0.26 0.39 0.52 0.65 0.78 0.91 1.04 1.17 1.3  1.43 1.56 1.69\n",
      " 1.82 1.95 2.08 2.21 2.34 2.47 2.6 ]\n"
     ]
    }
   ],
   "source": [
    "# check results using Numpy\n",
    "import numpy as np\n",
    "\n",
    "#get bin_count and bin_edges using Numpy\n",
    "bin_count, bin_edges = np.histogram(temperature_vector, bins=20)\n",
    "print(bin_count)\n",
    "print(bin_edges)\n",
    "\n",
    "# get bin_count and bin_edges using Numpy\n",
    "bin_count, bin_edges = np.histogram(precipitation_vector, bins=20)\n",
    "print(bin_count)\n",
    "print(bin_edges)"
   ]
  },
  {
   "cell_type": "markdown",
   "metadata": {},
   "source": [
    "**Your interpretation:**\n",
    "* This was one of the most challenging problems I have had to tackle thus far as I kept running in to a lot of errors in my code. Eventually I made some test code to be able to see what was being created in sequence which allowed me to find my issues.\n",
    "* Made mistake trying to use //2 instead of int() which was causing rounding errors and inaccuracies in the code. Once I switched to int() it made the correct adjustment to the bin that was expected. \n",
    "* Ran in to issue without the if statement checking if the index was equal to the upper limit of the histogram. I kept getting index errors (list index out of range) without that statement and took me some time to figure out that problem. With my test code I did not have the problem, but with the temperature_vector it was the perfect storm to create that issue. Once identified for that use case, adding that statement proved to be appropriate fix. \n",
    "* Used this code for histogram: https://www.geeksforgeeks.org/plotting-histogram-in-python-using-matplotlib/\n",
    "* Reference used to create formula for calculation: https://en.wikipedia.org/wiki/Histogram \n",
    "* The shape of the temperature vector histogram is bimodal so there are two obvious peaks showing that there are a large frequency of high values and a large frequency of low values suggesting that the temperature in Taylorsville is either high or low and does not generally end up in between. The shape of the precipitation vector histogram is unimodal and right skewed, suggesting the majority of values lie on the lower end of the range. In the case of precipitation it is mostly lower precipitation and not a lot of values in the upper ranges. "
   ]
  },
  {
   "cell_type": "markdown",
   "metadata": {},
   "source": [
    "## Part 2: Working with Matrices"
   ]
  },
  {
   "cell_type": "markdown",
   "metadata": {},
   "source": [
    "For the second part of the homework, we are going to work with matrices. The [dataset we will use](https://www.wunderground.com/history/airport/KSLC/2015/1/1/CustomHistory.html?dayend=31&monthend=12&yearend=2015&req_city=&req_state=&req_statename=&reqdb.zip=&reqdb.magic=&reqdb.wmo=) contains different properties of the weather in Salt Lake City for 2015 (temperature, humidity, sea level, ...). It is stored in the file [`SLC_2015.csv`](SLC_2015.csv) in this repository."
   ]
  },
  {
   "cell_type": "markdown",
   "metadata": {},
   "source": [
    "We first read the data from the file and store it in a nested python array (`weather_matrix`). A nested python array is an array, where each element is an array itself. Here is a simple example: "
   ]
  },
  {
   "cell_type": "code",
   "execution_count": 76,
   "metadata": {},
   "outputs": [
    {
     "data": {
      "text/plain": [
       "[[1, 2, 3], ['a', 'b', 'c']]"
      ]
     },
     "execution_count": 76,
     "metadata": {},
     "output_type": "execute_result"
    }
   ],
   "source": [
    "arr1 = [1,2,3]\n",
    "arr2 = ['a', 'b', 'c']\n",
    "\n",
    "nestedArr = [arr1, arr2]\n",
    "nestedArr"
   ]
  },
  {
   "cell_type": "markdown",
   "metadata": {},
   "source": [
    "We provide you with the import code, which writes the data into the nested list `temperature_matrix`. The list contains one list for each month, which, in turn, contains the mean temperature of every day of that month. "
   ]
  },
  {
   "cell_type": "code",
   "execution_count": 77,
   "metadata": {},
   "outputs": [
    {
     "name": "stdout",
     "output_type": "stream",
     "text": [
      "[[15, 19, 26, 28, 37, 38, 38, 36, 35, 31, 39, 36, 35, 30, 31, 31, 37, 44, 40, 35, 31, 31, 31, 33, 42, 41, 44, 42, 36, 40, 39], [39, 49, 50, 50, 53, 57, 60, 53, 55, 45, 43, 47, 46, 48, 43, 40, 38, 44, 47, 44, 39, 33, 31, 35, 44, 35, 37, 36], [40, 37, 34, 33, 39, 43, 45, 45, 46, 50, 54, 50, 51, 56, 62, 63, 61, 53, 47, 53, 57, 54, 52, 47, 42, 48, 56, 62, 53, 57, 63], [46, 44, 44, 54, 60, 50, 52, 46, 49, 53, 58, 50, 57, 56, 33, 44, 50, 54, 56, 56, 60, 61, 61, 59, 51, 46, 50, 57, 65, 63], [63, 71, 68, 67, 62, 59, 58, 57, 49, 53, 59, 68, 65, 65, 53, 48, 56, 58, 55, 59, 58, 58, 55, 57, 62, 59, 61, 61, 64, 71, 76], [80, 68, 69, 68, 69, 70, 66, 73, 77, 78, 72, 74, 75, 76, 81, 77, 78, 83, 83, 78, 81, 78, 78, 83, 82, 84, 87, 88, 91, 89], [87, 87, 87, 89, 79, 79, 76, 75, 73, 72, 77, 79, 81, 77, 80, 80, 79, 74, 74, 73, 76, 77, 75, 78, 78, 84, 77, 66, 70, 76, 79], [80, 79, 69, 76, 82, 74, 76, 69, 72, 79, 83, 81, 83, 88, 83, 79, 77, 72, 74, 76, 81, 74, 76, 84, 85, 78, 77, 80, 85, 82, 75], [82, 83, 82, 80, 75, 60, 65, 66, 71, 73, 74, 76, 76, 74, 65, 57, 59, 56, 60, 65, 69, 71, 73, 72, 77, 79, 79, 74, 73, 77], [78, 64, 61, 62, 64, 65, 62, 65, 64, 69, 70, 64, 65, 67, 66, 66, 69, 66, 62, 56, 57, 55, 54, 57, 58, 58, 51, 49, 50, 45, 57], [61, 61, 53, 41, 39, 40, 40, 44, 51, 36, 40, 42, 41, 43, 48, 39, 32, 41, 42, 39, 34, 34, 35, 40, 45, 32, 28, 25, 25, 28], [29, 29, 32, 35, 36, 38, 37, 45, 51, 47, 37, 35, 36, 31, 26, 30, 23, 35, 41, 36, 38, 38, 31, 30, 23, 19, 17, 19, 21, 21, 12]]\n",
      "Mean temp on August 23: 76\n"
     ]
    }
   ],
   "source": [
    "# initialize the 12 arrays for the months\n",
    "temperature_matrix = [[] for i in range(12)]\n",
    "\n",
    "# open the file and append the values of the last column to the array\n",
    "with open('SLC_2015.csv') as csvfile:\n",
    "    filereader = csv.reader(csvfile, delimiter=',', quotechar='|')\n",
    "    # get rid of the header\n",
    "    next(filereader)\n",
    "    for row in filereader:\n",
    "        month = int(row[0].split('/')[0])\n",
    "        mean_temp = int(row[2])\n",
    "        temperature_matrix[month-1].append(mean_temp)\n",
    "\n",
    "print(temperature_matrix)\n",
    "\n",
    "# the mean tempertarure on August 23. Note the index offset:\n",
    "print(\"Mean temp on August 23: \" + str(temperature_matrix[7][22]))"
   ]
  },
  {
   "cell_type": "markdown",
   "metadata": {},
   "source": [
    "We will next compute the same descriptive statistics as in Part 1 using the nested array `temperature_matrix`. \n",
    "\n",
    "In this problem, **we again want you to implement the solutions using standard python functionality and the math library**. We recommend you check your results using NumPy.\n",
    "\n",
    "**Note:** Since the lists in the matrix are of varying lengths (28 to 31 days) many of the standard NumPy functions won't work directly."
   ]
  },
  {
   "cell_type": "markdown",
   "metadata": {},
   "source": [
    "### Task 2.1: Calculates the Avg. Temperature from January to June (5 months)\n",
    "\n",
    "Write a function that calculates the mean of a matrix from a particular starting month to the ending month. For this version calculate the mean over all elements in the matrix as if it was one large vector. \n",
    "Pass in the matrix with the weather data,starting and ending month and return the result. Provide a written interpretation of your results.\n",
    "Can you use your function from Part 1 and get a valid result?"
   ]
  },
  {
   "cell_type": "code",
   "execution_count": 219,
   "metadata": {},
   "outputs": [
    {
     "name": "stdout",
     "output_type": "stream",
     "text": [
      "The average temperature between the two input months is 48.51 degrees Fahrenheit\n"
     ]
    }
   ],
   "source": [
    "#Created dictionary to lookup number value of month so that user input to function can be the actual month \n",
    "month_dict = {\"January\": 1, \"February\": 2, \"March\": 3, \"April\": 4, \"May\": 5, \"June\": 6, \"July\": 7, \"August\": 8, \"September\": 9, \"October\": 10, \"November\": 11, \"December\": 12}\n",
    "\n",
    "def average_months(temperature_matrix, month1, month2):\n",
    "    #get starting month from matrix\n",
    "    month_start = month_dict.get(month1) - 1\n",
    "    #print (month_start)\n",
    "    #get ending month from matrix \n",
    "    month_end = month_dict.get(month2) - 1\n",
    "    #print(month_end)\n",
    "\n",
    "    #create empty list to store all the temperatures for calculating mean\n",
    "    temperatures = []\n",
    "\n",
    "    for month_index in range(month_start, month_end):\n",
    "        temperatures.extend(temperature_matrix[month_index])\n",
    "        #print(month_index)\n",
    "\n",
    "    mean_temp = sum(temperatures) / len(temperatures)\n",
    "\n",
    "    return mean_temp\n",
    "\n",
    "result = average_months(temperature_matrix, \"January\", \"June\")\n",
    "\n",
    "print(f\"The average temperature between the two input months is {result:.2f} degrees Fahrenheit\")"
   ]
  },
  {
   "cell_type": "code",
   "execution_count": 201,
   "metadata": {},
   "outputs": [
    {
     "name": "stdout",
     "output_type": "stream",
     "text": [
      "48.456758832565285\n"
     ]
    }
   ],
   "source": [
    "# check results with numpy\n",
    "# temperature_array = np.array(temperature_matrix)\n",
    "# months = temperature_array[0:6]\n",
    "# mean_temp = np.mean(months)\n",
    "\n",
    "#check results with \n",
    "Jan = mean_vector(temperature_matrix[0])\n",
    "Feb = mean_vector(temperature_matrix[1])\n",
    "Mar = mean_vector(temperature_matrix[2])\n",
    "Apr = mean_vector(temperature_matrix[3])\n",
    "May = mean_vector(temperature_matrix[4])\n",
    "\n",
    "mean = (Jan + Feb + Mar + Apr + May)/ 5\n",
    "print(mean)"
   ]
  },
  {
   "cell_type": "markdown",
   "metadata": {},
   "source": [
    "**Your Interpretation:**\n",
    "* I decided to create a dictionary to lookup the integer representation of each month so the input could be as requested in the question prompt which worked well.\n",
    "* Once again I ran in to issues with proper indexing which is just a persistent thing I am starting to get better at but causes me issues. I am definitely more conscious of it but it is tough to remember that 0 is the first element. \n",
    "* I ran in to an issue trying to use the append function initially where the temperature list I created was just becoming a list of lsts and not a long list of temperatures. When I switched to extend, it ended up working the way I was expecting to be able to flatten the list and actually get an accurate sum and length.\n",
    "* Checking the results against my vector_mean function from part 1 I am getting similar result. I think the slight difference lies in the rounding errors that are occurring by computing each month individually rather than all at once as I did with the average_months function."
   ]
  },
  {
   "cell_type": "markdown",
   "metadata": {},
   "source": [
    "### Task 2.2:  Calculate the mean temperature of each month in the second half year (July to December)\n",
    "\n",
    "Write a function that calculates the mean temperature of each month in the second half year and returns an array with the means for each row. Provide a written interpretation of your results. Can you use the function you implemented in Part 1 here efficiently? If so, use it."
   ]
  },
  {
   "cell_type": "code",
   "execution_count": 224,
   "metadata": {},
   "outputs": [
    {
     "name": "stdout",
     "output_type": "stream",
     "text": [
      "[77.87096774193549, 78.35483870967742, 71.43333333333334, 61.16129032258065, 39.96666666666667, 31.548387096774192]\n"
     ]
    }
   ],
   "source": [
    "#Using the same dictionary as above to be able to use any months if desired\n",
    "month_dict = {\"January\": 1, \"February\": 2, \"March\": 3, \"April\": 4, \"May\": 5, \"June\": 6, \"July\": 7, \"August\": 8, \"September\": 9, \"October\": 10, \"November\": 11, \"December\": 12}\n",
    "\n",
    "def mean_array(temperature_matrix, month1, month2):\n",
    "    #get starting month from matrix and correct indexing\n",
    "    month_start = month_dict.get(month1) - 1\n",
    "    \n",
    "    #get ending month from matrix and correct indexing\n",
    "    month_end = month_dict.get(month2) - 1\n",
    "    \n",
    "    #create array for mean temperature - result of task \n",
    "    temp_array = []\n",
    "    \n",
    "    for month_index in range(month_start, month_end + 1):\n",
    "        month_temps = temperature_matrix[month_index]\n",
    "        month_mean_temp = sum(month_temps) / len (month_temps)\n",
    "        temp_array.append(month_mean_temp)\n",
    "    return temp_array\n",
    "\n",
    "\n",
    "result = mean_array(temperature_matrix, \"July\", \"December\")\n",
    "print(result)"
   ]
  },
  {
   "cell_type": "markdown",
   "metadata": {},
   "source": [
    "**My Interpretation:**\n",
    "* After doing the first task this one felt a lot easier and I was able to use the first part of the previous function to start this one.\n",
    "* Looking at the array created it is logical that the average temperatures would drop over the course of the year. "
   ]
  },
  {
   "cell_type": "markdown",
   "metadata": {},
   "source": [
    "### Task 2.3:  Calculate the median temperature from February to August\n",
    "\n",
    "Write a function that calculates and returns the median of a matrix over all values from February to August (independent from which row they are coming) and returns it. Provide a written interpretation of your results. Can you use your function from Part 1 and get a valid result?"
   ]
  },
  {
   "cell_type": "code",
   "execution_count": 261,
   "metadata": {},
   "outputs": [
    {
     "name": "stdout",
     "output_type": "stream",
     "text": [
      "62.5\n"
     ]
    }
   ],
   "source": [
    "#Using the same dictionary as above to be able to use any months if desired\n",
    "month_dict = {\"January\": 1, \"February\": 2, \"March\": 3, \"April\": 4, \"May\": 5, \"June\": 6, \"July\": 7, \"August\": 8, \"September\": 9, \"October\": 10, \"November\": 11, \"December\": 12}\n",
    "\n",
    "def median_temp(temperature_matrix, month1, month2):\n",
    "    #get starting month from matrix and correct indexing\n",
    "    month_start = month_dict.get(month1) - 1\n",
    "    \n",
    "    #get ending month from matrix and correct indexing\n",
    "    month_end = month_dict.get(month2) - 1\n",
    "\n",
    "    #create empty list to store all the temperatures for calculating mean\n",
    "    temperatures = []\n",
    "\n",
    "    for month_index in range(month_start, month_end + 1):\n",
    "        temperatures.extend(temperature_matrix[month_index])\n",
    "\n",
    "    #sort the temperatures prior to doing next portion of calculation\n",
    "    temperatures.sort()\n",
    "\n",
    "    #calculate the length of the array to figure out how to properly assess median\n",
    "    vector_len = len(temperatures)\n",
    "\n",
    "    #checks if vector length is odd (modulo = 1) and if so the index becomes the \n",
    "    if vector_len % 2 ==1:\n",
    "        index = vector_len //2 #index is calculated and is the middle number at that index \n",
    "        return temperatures[index] #return the value at that index for the sorted_vector \n",
    "\n",
    "    else: #must be even length and we therefore need to figure out the average of the two middle numbers\n",
    "        index1 = (vector_len //2) #index calculated as one of the middle elements\n",
    "        index2 = (vector_len //2) - 1 #index calculated as the remaining middle element \n",
    "        return (temperatures[index1] + temperatures[index2]) /2\n",
    "\n",
    "\n",
    "result = median_temp(temperature_matrix, \"February\", \"August\")\n",
    "print(result) "
   ]
  },
  {
   "cell_type": "code",
   "execution_count": 232,
   "metadata": {},
   "outputs": [
    {
     "name": "stdout",
     "output_type": "stream",
     "text": [
      "The median temperature from February to August is: 62.5\n"
     ]
    }
   ],
   "source": [
    "# check results with numpy\n",
    "\n",
    "temperature_matrix_np = np.array(temperature_matrix, dtype=object)\n",
    "\n",
    "#concatenate data from February to August\n",
    "febaug_temp = np.concatenate(temperature_matrix_np[1:8])\n",
    "\n",
    "# Calculate the median\n",
    "median_temp = np.median(febaug_temp)\n",
    "\n",
    "print(f\"The median temperature from February to August is: {median_temp}\")"
   ]
  },
  {
   "cell_type": "markdown",
   "metadata": {},
   "source": [
    "**My Interpretation:**\n",
    "* My function worked well and calculated the value the same way as numpy\n",
    "* I initially forgot to sort the values so the number I got was not correlating to the numpy output but once I fixed that sort the numbers were the same.\n",
    "* I used a combination of the temperature array extend from the mean function as well as the median calculation I created in problem 1 to create the function with good result. I likely could have used the median function from problem 1 but would have needed to modify it to be able to include the temperatures.extend portion so I just decided to create another unique function. "
   ]
  },
  {
   "cell_type": "markdown",
   "metadata": {},
   "source": [
    "### Task 2.4: Calculate the median temperature of each month in the first half year (January to June)\n",
    "\n",
    "Write a function that calculates the median temperature of each sub array (i.e. each row in the temperature_matrix) in the first half year, and returns an array of medians (one entry for each row). To do so, use the function you implemented in Part 1. Provide a written interpretation of your results. "
   ]
  },
  {
   "cell_type": "code",
   "execution_count": 235,
   "metadata": {},
   "outputs": [
    {
     "name": "stdout",
     "output_type": "stream",
     "text": [
      "[36, 44.0, 51, 53.5, 59, 78.0]\n"
     ]
    }
   ],
   "source": [
    "#Using the same dictionary as above to be able to use any months if desired\n",
    "month_dict = {\"January\": 1, \"February\": 2, \"March\": 3, \"April\": 4, \"May\": 5, \"June\": 6, \"July\": 7, \"August\": 8, \"September\": 9, \"October\": 10, \"November\": 11, \"December\": 12}\n",
    "\n",
    "def median_temp(temperature_matrix, month1, month2):\n",
    "    #get starting month from matrix and correct indexing\n",
    "    month_start = month_dict.get(month1) - 1\n",
    "    \n",
    "    #get ending month from matrix and correct indexing\n",
    "    month_end = month_dict.get(month2) - 1\n",
    "\n",
    "    #creates empty array to store median values\n",
    "    median_array = []\n",
    "    \n",
    "    for month_index in range(month_start, month_end + 1):\n",
    "        median_array.append(median_vector(temperature_matrix[month_index]))\n",
    "    return median_array\n",
    "\n",
    "result = median_temp(temperature_matrix, \"January\", \"June\")\n",
    "print(result)"
   ]
  },
  {
   "cell_type": "markdown",
   "metadata": {},
   "source": [
    "**My Interpretation:**\n",
    "* Results make sense given the months that are being used to calculate the medians, would expect January to be coldest and for the temperatures to steadily increase over the course of the year\n",
    "* I found this exercise straighforward especially given that the function in question 1 already build the sort function within it so there were a lot of steps that did not have to be computed within this function. "
   ]
  },
  {
   "cell_type": "markdown",
   "metadata": {},
   "source": [
    "### Task 2.5: Calculate the standard deviation of a whole matrix\n",
    "\n",
    "Write a function that calculates the [standard deviation](https://en.wikipedia.org/wiki/Standard_deviation) of a matrix over all values in the matrix (ignoring from which row they were coming) and returns it. Can you use your function calculating variance from Part 1 and get a valid result? Provide a written interpretation of your results. "
   ]
  },
  {
   "cell_type": "code",
   "execution_count": 245,
   "metadata": {},
   "outputs": [
    {
     "name": "stdout",
     "output_type": "stream",
     "text": [
      "17.93357749771714\n",
      "17.93357749771714\n"
     ]
    }
   ],
   "source": [
    "def temp_sd(temperature_matrix): \n",
    "    temperatures = [] \n",
    "\n",
    "    for month_index in range(len(temperature_matrix)):\n",
    "        temperatures.extend(temperature_matrix[month_index])\n",
    "\n",
    "    #check vector_var from Part 1 to see if result is the same - it is! \n",
    "    result1 = (vector_var(temperatures))**0.5\n",
    "    print(result1)\n",
    "\n",
    "    #calculate the mean of the temperatures\n",
    "    temp_mean = sum(temperatures) / len(temperatures)\n",
    "\n",
    "    #calculate the squared deviations \n",
    "    sq_dev = []\n",
    "    for values in temperatures:\n",
    "        sq_dev.append((values - temp_mean)**2) #for each element in the vector, compute the squared deviation from the mean and add to list\n",
    "\n",
    "    var_dev = sum(sq_dev)/(len(temperatures) - 1) #variance computed by sum of the squared deviation divided by the length -1 \n",
    "\n",
    "    #square root of variance to calculate standard deviation\n",
    "    stand_dev = var_dev ** 0.5\n",
    "    \n",
    "    return stand_dev\n",
    "\n",
    "result = temp_sd(temperature_matrix)\n",
    "print(result)"
   ]
  },
  {
   "cell_type": "code",
   "execution_count": 248,
   "metadata": {},
   "outputs": [
    {
     "name": "stdout",
     "output_type": "stream",
     "text": [
      "17.93357749771714\n"
     ]
    }
   ],
   "source": [
    "#Use similar code above to flatten array for numpy\n",
    "temperature_numpy = []\n",
    "\n",
    "for month_index in range(len(temperature_matrix)):\n",
    "        temperature_numpy.extend(temperature_matrix[month_index])\n",
    "\n",
    "#calculate standard deviation using numpy\n",
    "std_dev = np.std(temperature_numpy, ddof=1)  # 1 for sample standard deviation\n",
    "\n",
    "print(std_dev)"
   ]
  },
  {
   "cell_type": "markdown",
   "metadata": {},
   "source": [
    "**Your Interpretation:**\n",
    "* Both the result from Part 1 as well as the check with numpy produce the same result.\n",
    "* The challenge here was to make sure you are calculating standard deviation and not variance as the std is the square root of variance so initially the vector_var function produced a different result until I recognized the reason and computed the square root."
   ]
  },
  {
   "cell_type": "markdown",
   "metadata": {},
   "source": [
    "### Task 2.6: Calculate the standard deviation of each vector of a matrix\n",
    "\n",
    "Write a function that calculates the [standard deviation](https://en.wikipedia.org/wiki/Standard_deviation) of each array in the matrix and returns an array of standard deviations (one standard deviation for each row). To do so, use the function calculating variance you implemented in Part 1. \n",
    "Pass in the matrix with the temperature data and return the result. Provide a written interpretation of your results - is the standard deviation consistent across the seasons? "
   ]
  },
  {
   "cell_type": "code",
   "execution_count": 255,
   "metadata": {},
   "outputs": [
    {
     "name": "stdout",
     "output_type": "stream",
     "text": [
      "[6.612305244403142, 7.478629164485573, 8.399820786618713, 7.042155495513324, 6.376367658481515, 6.64744354975102, 5.103867393025744, 4.743756507921924, 7.681968737124677, 7.052643826696238, 8.864821344576796, 9.117158583964704]\n"
     ]
    }
   ],
   "source": [
    "def std_alltemp(temperature_matrix):\n",
    "    \n",
    "    std_array = []\n",
    "    \n",
    "    for month_index in range(len(temperature_matrix)):\n",
    "        std_array.append(vector_var(temperature_matrix[month_index]) ** 0.5)\n",
    "    return std_array\n",
    "\n",
    "result = std_alltemp(temperature_matrix)\n",
    "print(result)"
   ]
  },
  {
   "cell_type": "markdown",
   "metadata": {},
   "source": [
    "**Your Interpretation:**\n",
    "* This worked as planned to create this array. The standard deviation across seasons is fairly consistent with the late months being the most variable and the summer months with the most consistent temperatures. It is not completely consistent but I believe the birds eye view looking at these deviations makes sense given how much the weather varies in certain months (like November and December) and is more consistent during the warmer months (July and August)"
   ]
  },
  {
   "cell_type": "markdown",
   "metadata": {},
   "source": [
    "## Part 3: Poisson distribution \n",
    "\n",
    "In class, we looked at [Bernoulli](https://en.wikipedia.org/wiki/Bernoulli_distribution) and [binomial](https://en.wikipedia.org/wiki/Binomial_distribution) discrete random variables. Another example of a discrete random variable is a *Poisson random variable*. \n",
    "\n",
    "Read the [wikipedia article on the Poisson distribution](https://en.wikipedia.org/wiki/Poisson_distribution)\n",
    "\n",
    "### Part 3.1. Descriptive statistics\n",
    "\n",
    "Describe what a Poisson random variable is. What is the parameter, $\\lambda$? What is the min, max, mean, and variance of a Poisson random variable? "
   ]
  },
  {
   "cell_type": "markdown",
   "metadata": {},
   "source": [
    "**My description:**\n",
    "* Reference: https://en.wikipedia.org/wiki/Poisson_distribution\n",
    "* Reference: https://www.geeksforgeeks.org/poisson-distribution/\n",
    "* The Poisson distrubution is a expresses the probability of events occuring during a fixed time interval and can be applied to situations with the potential for a large number of rare events. The random variable models the number of event occurrences within a fixed interval of time/space.\n",
    "* The parameter $\\lambda$ is the expected number of events or average rate of occurence of events in a given interval.\n",
    "* The minimum of a Poisson random variable = 0 as it is possible for no events to occur\n",
    "* The maximum of a Poisson random variable = infinite, though the probability of events decreases as the limit approaches infinity\n",
    "* The mean/variance of a Poisson random variable = The mean and variance of a Poisson distribution are equal. This can be interpreted as the average number of events and the variability are characterized by the same parameter. "
   ]
  },
  {
   "cell_type": "markdown",
   "metadata": {},
   "source": [
    "### Part 3.2. Example \n",
    "\n",
    "Give an example of an application that is described by a Poisson random variable."
   ]
  },
  {
   "cell_type": "markdown",
   "metadata": {},
   "source": [
    "*My description:* \n",
    "* An example of something that is decribed by a Poisson distrubution is the number of pieces of chewing gum on a sidewalk tile in New York City. The reason for this is that the events occur independently (someone spitting their gum out on the center of a tile does not depend on whether someone spit their gum out on the corner of the tile. The average rate is constant over the given interval (there is no predictable increase or decrease in the amount of people spitting their gum on a portion of a tile). The number of events can be any non-negative integer (the number of possible pieces of gum is infinite and can take the form of any non-negative integer). "
   ]
  },
  {
   "cell_type": "markdown",
   "metadata": {},
   "source": [
    "### Part 3.3. Probability mass function\n",
    "\n",
    "For the parameter $\\lambda = 3.9$, plot the probability mass function (you may use scipy). "
   ]
  },
  {
   "cell_type": "code",
   "execution_count": 162,
   "metadata": {},
   "outputs": [
    {
     "data": {
      "text/plain": [
       "<matplotlib.legend.Legend at 0x13047d610>"
      ]
     },
     "execution_count": 162,
     "metadata": {},
     "output_type": "execute_result"
    },
    {
     "data": {
      "image/png": "[encoded data removed]",
      "text/plain": [
       "<Figure size 640x480 with 1 Axes>"
      ]
     },
     "metadata": {},
     "output_type": "display_data"
    }
   ],
   "source": [
    "import numpy as np\n",
    "import matplotlib.pyplot as plt\n",
    "from scipy.stats import poisson\n",
    "\n",
    "#define lambda parameter\n",
    "mu = 3.9\n",
    "\n",
    "fig, ax = plt.subplots(1, 1)\n",
    "x = np.arange(poisson.ppf(0.01, mu),\n",
    "              poisson.ppf(0.99, mu))\n",
    "ax.plot(x, poisson.pmf(x, mu), 'bo', ms=8, label='poisson pmf')\n",
    "ax.vlines(x, 0, poisson.pmf(x, mu), colors='b', lw=5, alpha=0.5)\n",
    "ax.set_xlabel(\"Number of Events (k)\")\n",
    "ax.set_ylabel(\"Probability\")\n",
    "ax.set_title(\"Poisson PMF (λ = 3.9)\")\n",
    "ax.legend(loc='best')\n"
   ]
  },
  {
   "cell_type": "markdown",
   "metadata": {},
   "source": [
    "**My description:**\n",
    "* Reference: https://docs.scipy.org/doc/scipy/reference/generated/scipy.stats.poisson.html\n",
    "* I used the reference material to creat the PMF graph and added labels for the x, y axis and then added a title and legend "
   ]
  },
  {
   "cell_type": "markdown",
   "metadata": {},
   "source": [
    "### Part 3.4. Poission sampling\n",
    "\n",
    "Write python code that takes 1475 samples from the Poisson distribution with parameter $\\lambda = 3.9$. Make a histogram of the samples and compute the sample mean and variance. How does the histogram compare to the probability mass function?"
   ]
  },
  {
   "cell_type": "code",
   "execution_count": 161,
   "metadata": {},
   "outputs": [
    {
     "data": {
      "image/png": "[encoded data removed]",
      "text/plain": [
       "<Figure size 640x480 with 1 Axes>"
      ]
     },
     "metadata": {},
     "output_type": "display_data"
    },
    {
     "name": "stdout",
     "output_type": "stream",
     "text": [
      "The sample mean is 3.8176 and the sample variance is 3.7789.\n"
     ]
    }
   ],
   "source": [
    "#define lambda parameter\n",
    "mu = 3.9\n",
    "\n",
    "#creates variable with 1475 random variate samples from poisson distrubition \n",
    "r = poisson.rvs(mu, size=1475)\n",
    "\n",
    "# Plotting the Poisson sample histogram\n",
    "plt.hist(r, bins=20, color='skyblue', edgecolor='black')\n",
    "\n",
    "# Adding labels and title\n",
    "plt.title(f\"Histogram of 1475 Samples from Poisson Distribution (λ = {mu})\", fontsize=14)\n",
    "plt.xlabel(\"Number of Events (k)\", fontsize=12)\n",
    "plt.ylabel(\"Probability\", fontsize=12)\n",
    "plt.grid(alpha=0.3)\n",
    "plt.show()\n",
    "\n",
    "# Display the plot\n",
    "plt.show()\n",
    "\n",
    "r_mean = np.mean(r)\n",
    "r_variance = np.var(r)\n",
    "print(f\"The sample mean is {r_mean:.4f} and the sample variance is {r_variance:.4f}.\")"
   ]
  },
  {
   "cell_type": "markdown",
   "metadata": {},
   "source": [
    "**My description:**\n",
    "* Completing this activity was straightforward especially with the ability to use scipy to create the PMF plot. The histogram creates does not perfectly match the PMF plot but it is a close approximation. I believe that this is because the PMF plot reflects the true probability whereas the histogram is a close approximation/attempt at getting close to the true PMF.\n",
    "* Something I found interesting was that I expected the sample mean and sample variance to be equal as is suggested with Wikipedia article. I reasoned that the equality holds true for infinite samples where the two values approach equality. As I ran the code several times it was clear that occasionally the variance and mean were similar and ocassionally they were off. This is likely reflective of the random sampling in the 1475 samples and associated variability. "
   ]
  }
 ],
 "metadata": {
  "kernelspec": {
   "display_name": "Python 3 (ipykernel)",
   "language": "python",
   "name": "python3"
  },
  "language_info": {
   "codemirror_mode": {
    "name": "ipython",
    "version": 3
   },
   "file_extension": ".py",
   "mimetype": "text/x-python",
   "name": "python",
   "nbconvert_exporter": "python",
   "pygments_lexer": "ipython3",
   "version": "3.12.5"
  }
 },
 "nbformat": 4,
 "nbformat_minor": 4
}
